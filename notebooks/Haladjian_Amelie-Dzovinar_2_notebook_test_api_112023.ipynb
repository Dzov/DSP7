{
 "cells": [
  {
   "cell_type": "code",
   "execution_count": 31,
   "metadata": {},
   "outputs": [],
   "source": [
    "import requests\n",
    "import csv\n",
    "from pprint import pprint"
   ]
  },
  {
   "cell_type": "code",
   "execution_count": 34,
   "metadata": {},
   "outputs": [],
   "source": [
    "url = \"https://pret-a-depenser.azurewebsites.net/predict\""
   ]
  },
  {
   "cell_type": "code",
   "execution_count": 42,
   "metadata": {},
   "outputs": [
    {
     "name": "stdout",
     "output_type": "stream",
     "text": [
      "With a score of [0.03], client n° 313501 has been approved for a loan \n",
      "With a score of [0.12], client n° 386831 has not made the cutoff and has therefore been denied a loan \n",
      "With a score of [0.05], client n° 262520 has been approved for a loan \n",
      "With a score of [0.16], client n° 227649 has not made the cutoff and has therefore been denied a loan \n",
      "With a score of [0.04], client n° 455021 has been approved for a loan \n",
      "With a score of [0.17], client n° 231867 has not made the cutoff and has therefore been denied a loan \n",
      "With a score of [0.02], client n° 285665 has been approved for a loan \n"
     ]
    }
   ],
   "source": [
    "clientIds = [\n",
    "    313501,\n",
    "    386831,\n",
    "    262520,\n",
    "    227649,\n",
    "    455021,\n",
    "    231867,\n",
    "    285665]\n",
    "\n",
    "for clientId in clientIds:\n",
    "    body = {\"clientId\": clientId}\n",
    "\n",
    "    response = requests.post(url, json=body).json()\n",
    "    print(f\"With a score of {response['probability']}, client n° {response['clientId']} {'has been approved for a loan' if response['prediction'] == [0] else 'has not made the cutoff and has therefore been denied a loan'} \")"
   ]
  }
 ],
 "metadata": {
  "kernelspec": {
   "display_name": "p7",
   "language": "python",
   "name": "python3"
  },
  "language_info": {
   "codemirror_mode": {
    "name": "ipython",
    "version": 3
   },
   "file_extension": ".py",
   "mimetype": "text/x-python",
   "name": "python",
   "nbconvert_exporter": "python",
   "pygments_lexer": "ipython3",
   "version": "3.11.5"
  }
 },
 "nbformat": 4,
 "nbformat_minor": 2
}
